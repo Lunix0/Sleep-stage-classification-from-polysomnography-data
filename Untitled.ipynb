{
 "cells": [
  {
   "cell_type": "code",
   "execution_count": 1,
   "id": "db6bdc2c-daef-4bc2-b264-ab5d7122e102",
   "metadata": {},
   "outputs": [],
   "source": [
    "import numpy as np\n",
    "import mne\n",
    "from mne.datasets.sleep_physionet.age import fetch_data"
   ]
  },
  {
   "cell_type": "markdown",
   "id": "cee8b665-1a6d-4982-be4f-0f24e9d819fb",
   "metadata": {},
   "source": [
    "## Loading Data"
   ]
  },
  {
   "cell_type": "code",
   "execution_count": 258,
   "id": "e9f017f0-22cf-482f-84d9-5d178215b597",
   "metadata": {},
   "outputs": [
    {
     "name": "stdout",
     "output_type": "stream",
     "text": [
      "Using default location ~/mne_data for PHYSIONET_SLEEP...\n"
     ]
    }
   ],
   "source": [
    "missing_subjects = [39, 68, 69, 78, 79]\n",
    "all_subjects_train= list(range(1))\n",
    "all_subjects_test= list(range(1,2))\n",
    "all_subjects_test = [s for s in all_subjects_test if s not in missing_subjects]\n",
    "all_subjects_train = [s for s in all_subjects_train if s not in missing_subjects]\n",
    "data=fetch_data(subjects=subjects, recording=[1])"
   ]
  },
  {
   "cell_type": "markdown",
   "id": "8c42524e-3c1c-4e02-979c-81778a3fc1e3",
   "metadata": {},
   "source": [
    "## Reading data"
   ]
  },
  {
   "cell_type": "code",
   "execution_count": 108,
   "id": "91564d8f-cd95-418c-b989-ce2143ab5e0f",
   "metadata": {},
   "outputs": [],
   "source": [
    "def read_data(fname):\n",
    "    raw = mne.io.read_raw_edf(\n",
    "        fname,\n",
    "        stim_channel=\"Event marker\",\n",
    "        infer_types=True,\n",
    "        preload=True,\n",
    "        verbose=\"error\")\n",
    "    return raw\n",
    "    "
   ]
  },
  {
   "cell_type": "markdown",
   "id": "8644ebe3-e433-47d3-81e9-1e25de9fd3bb",
   "metadata": {},
   "source": [
    "## Extracting training epochs\n",
    "We will work only with 5 stages: Wake (W), Stage 1, Stage 2, Stage 3/4, and REM sleep (R). To do so, we use the event_id parameter in mne.events_from_annotations to select which events are we interested in and we associate an event identifier to each of them.\n"
   ]
  },
  {
   "cell_type": "code",
   "execution_count": 154,
   "id": "f0b4b4fa-6b06-4c38-ba2b-94f6d1e3576e",
   "metadata": {},
   "outputs": [],
   "source": [
    "def extract_events(raw):\n",
    "    events, _ = mne.events_from_annotations(\n",
    "    raw, event_id=annotation_desc_2_event_id, chunk_duration=30.0)\n",
    "    return events"
   ]
  },
  {
   "cell_type": "code",
   "execution_count": 250,
   "id": "5168ed67-9ca1-4977-b0ca-b8c967cf68f8",
   "metadata": {},
   "outputs": [
    {
     "name": "stdout",
     "output_type": "stream",
     "text": [
      "Used Annotations descriptions: ['Sleep stage 1', 'Sleep stage 2', 'Sleep stage 3', 'Sleep stage 4', 'Sleep stage R', 'Sleep stage W']\n",
      "Not setting metadata\n",
      "841 matching events found\n",
      "No baseline correction applied\n",
      "0 projection items activated\n"
     ]
    }
   ],
   "source": [
    "annotation_desc_2_event_id = {\n",
    "    \"Sleep stage W\": 1,\n",
    "    \"Sleep stage 1\": 2,\n",
    "    \"Sleep stage 2\": 3,\n",
    "    \"Sleep stage 3\": 4,\n",
    "    \"Sleep stage 4\": 4,\n",
    "    \"Sleep stage R\": 5,\n",
    "}\n",
    "all_epochs_train = []  \n",
    "for sid in all_subjects_train:  \n",
    "    # Reading data\n",
    "    raw_train = read_data(data[sid][0])\n",
    "    # Setting annotations\n",
    "    annot_train = mne.read_annotations(data[sid][1])\n",
    "    annot_train.crop(annot_train[1][\"onset\"] - 30 * 60, annot_train[-2][\"onset\"] + 30 * 60)\n",
    "    raw_train.set_annotations(annot_train, emit_warning=False)\n",
    "    #Extracting events\n",
    "    events_train= extract_events(raw_train)\n",
    "    # Extracting epochs \n",
    "    tmax = 30.0 - 1.0 / raw_train.info[\"sfreq\"]  \n",
    "    epochs_train = mne.Epochs(\n",
    "        raw=raw_train,\n",
    "        events=events_train,\n",
    "        event_id=event_id,\n",
    "        tmin=0.0,\n",
    "        tmax=tmax,\n",
    "        baseline=None,\n",
    "    )\n",
    "    all_epochs_train.append(epochs_train)\n",
    "    "
   ]
  },
  {
   "cell_type": "markdown",
   "id": "10a0efe7-f615-46a2-9d91-c79eecf0742a",
   "metadata": {},
   "source": [
    "## Extracting testing epochs"
   ]
  },
  {
   "cell_type": "code",
   "execution_count": 260,
   "id": "fdd46b17-d706-42d1-bd21-f9c78f3bb386",
   "metadata": {},
   "outputs": [
    {
     "name": "stdout",
     "output_type": "stream",
     "text": [
      "Used Annotations descriptions: ['Sleep stage 1', 'Sleep stage 2', 'Sleep stage 3', 'Sleep stage 4', 'Sleep stage R', 'Sleep stage W']\n",
      "Not setting metadata\n",
      "1103 matching events found\n",
      "No baseline correction applied\n",
      "0 projection items activated\n"
     ]
    }
   ],
   "source": [
    "all_epochs_test = []  \n",
    "for sid in all_subjects_test:  \n",
    "    # Reading data\n",
    "    raw_test = read_data(data[sid][0])\n",
    "    # Setting annotations\n",
    "    annot_test = mne.read_annotations(data[sid][1])\n",
    "    annot_test.crop(annot_test[1][\"onset\"] - 30 * 60, annot_test[-2][\"onset\"] + 30 * 60)\n",
    "    raw_test.set_annotations(annot_test, emit_warning=False)\n",
    "    #Extracting events\n",
    "    events_test= extract_events(raw_test)\n",
    "    # Extracting epochs \n",
    "    tmax = 30.0 - 1.0 / raw_test.info[\"sfreq\"]  \n",
    "    epochs_test = mne.Epochs(\n",
    "        raw=raw_test,\n",
    "        events=events_test,\n",
    "        event_id=event_id,\n",
    "        tmin=0.0,\n",
    "        tmax=tmax,\n",
    "        baseline=None,\n",
    "    )\n",
    "    all_epochs_test.append(epochs_test)"
   ]
  },
  {
   "cell_type": "code",
   "execution_count": null,
   "id": "6c67abdd-2667-48f0-a2e6-3fdd69898388",
   "metadata": {},
   "outputs": [],
   "source": []
  }
 ],
 "metadata": {
  "kernelspec": {
   "display_name": "Python [conda env:base] *",
   "language": "python",
   "name": "conda-base-py"
  },
  "language_info": {
   "codemirror_mode": {
    "name": "ipython",
    "version": 3
   },
   "file_extension": ".py",
   "mimetype": "text/x-python",
   "name": "python",
   "nbconvert_exporter": "python",
   "pygments_lexer": "ipython3",
   "version": "3.12.7"
  }
 },
 "nbformat": 4,
 "nbformat_minor": 5
}
