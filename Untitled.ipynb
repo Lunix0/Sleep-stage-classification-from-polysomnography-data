{
 "cells": [
  {
   "cell_type": "code",
   "execution_count": 44,
   "id": "fbd4c079-a609-414d-9dd4-232323b4c998",
   "metadata": {},
   "outputs": [
    {
     "ename": "NameError",
     "evalue": "name 'raw_read_edf' is not defined",
     "output_type": "error",
     "traceback": [
      "\u001b[1;31m---------------------------------------------------------------------------\u001b[0m",
      "\u001b[1;31mNameError\u001b[0m                                 Traceback (most recent call last)",
      "Cell \u001b[1;32mIn[44], line 2\u001b[0m\n\u001b[0;32m      1\u001b[0m \u001b[38;5;28;01mfor\u001b[39;00m sid \u001b[38;5;129;01min\u001b[39;00m subjects:\n\u001b[1;32m----> 2\u001b[0m     raw_train_sid\u001b[38;5;241m=\u001b[39mraw_read_edf(data[sid], stim_channel\u001b[38;5;241m=\u001b[39m\u001b[38;5;124m\"\u001b[39m\u001b[38;5;124mEvent marker\u001b[39m\u001b[38;5;124m\"\u001b[39m, verbose\u001b[38;5;241m=\u001b[39m\u001b[38;5;124m\"\u001b[39m\u001b[38;5;124merror\u001b[39m\u001b[38;5;124m\"\u001b[39m)\n\u001b[0;32m      4\u001b[0m raw_train\u001b[38;5;241m=\u001b[39mraw_read_edf\n",
      "\u001b[1;31mNameError\u001b[0m: name 'raw_read_edf' is not defined"
     ]
    }
   ],
   "source": [
    "raw_train=[]\n",
    "for sid in subjects:\n",
    "    raw_train_sid=raw_read_edf(data[sid], stim_channel=\"Event marker\", verbose=\"error\")\n",
    "    raw_train.append\n",
    "raw_train=raw_read_edf"
   ]
  },
  {
   "cell_type": "code",
   "execution_count": 14,
   "id": "db6bdc2c-daef-4bc2-b264-ab5d7122e102",
   "metadata": {},
   "outputs": [],
   "source": [
    "import numpy as np\n",
    "import mne\n",
    "from mne.datasets.sleep_physionet.age import fetch_data"
   ]
  },
  {
   "cell_type": "markdown",
   "id": "cee8b665-1a6d-4982-be4f-0f24e9d819fb",
   "metadata": {},
   "source": [
    "## Loading Data"
   ]
  },
  {
   "cell_type": "code",
   "execution_count": 41,
   "id": "e9f017f0-22cf-482f-84d9-5d178215b597",
   "metadata": {},
   "outputs": [
    {
     "name": "stdout",
     "output_type": "stream",
     "text": [
      "Using default location ~/mne_data for PHYSIONET_SLEEP...\n"
     ]
    },
    {
     "name": "stderr",
     "output_type": "stream",
     "text": [
      "C:\\Users\\Lunaf\\anaconda3\\Lib\\site-packages\\paramiko\\pkey.py:82: CryptographyDeprecationWarning: TripleDES has been moved to cryptography.hazmat.decrepit.ciphers.algorithms.TripleDES and will be removed from this module in 48.0.0.\n",
      "  \"cipher\": algorithms.TripleDES,\n",
      "C:\\Users\\Lunaf\\anaconda3\\Lib\\site-packages\\paramiko\\transport.py:219: CryptographyDeprecationWarning: Blowfish has been moved to cryptography.hazmat.decrepit.ciphers.algorithms.Blowfish and will be removed from this module in 45.0.0.\n",
      "  \"class\": algorithms.Blowfish,\n",
      "C:\\Users\\Lunaf\\anaconda3\\Lib\\site-packages\\paramiko\\transport.py:243: CryptographyDeprecationWarning: TripleDES has been moved to cryptography.hazmat.decrepit.ciphers.algorithms.TripleDES and will be removed from this module in 48.0.0.\n",
      "  \"class\": algorithms.TripleDES,\n",
      "Downloading data from 'https://physionet.org/physiobank/database/sleep-edfx/sleep-cassette//SC4021E0-PSG.edf' to file 'C:\\Users\\Lunaf\\mne_data\\physionet-sleep-data\\SC4021E0-PSG.edf'.\n",
      "100%|#####################################| 51.1M/51.1M [00:00<00:00, 25.5GB/s]\n",
      "Downloading data from 'https://physionet.org/physiobank/database/sleep-edfx/sleep-cassette//SC4021EH-Hypnogram.edf' to file 'C:\\Users\\Lunaf\\mne_data\\physionet-sleep-data\\SC4021EH-Hypnogram.edf'.\n",
      "100%|#####################################| 4.80k/4.80k [00:00<00:00, 2.40MB/s]"
     ]
    },
    {
     "name": "stdout",
     "output_type": "stream",
     "text": [
      "Download complete in 03m48s (48.8 MB)\n"
     ]
    },
    {
     "name": "stderr",
     "output_type": "stream",
     "text": [
      "\n"
     ]
    }
   ],
   "source": [
    "missing_subjects = [39, 68, 69, 78, 79]\n",
    "all_subjects= list(range(3))\n",
    "subjects = [s for s in all_subjects if s not in missing_subjects]\n",
    "data=fetch_data(subjects=subjects, recording=[1])"
   ]
  },
  {
   "cell_type": "markdown",
   "id": "8644ebe3-e433-47d3-81e9-1e25de9fd3bb",
   "metadata": {},
   "source": [
    "## Setting annotations"
   ]
  },
  {
   "cell_type": "code",
   "execution_count": 60,
   "id": "add3ab54-d8d6-4618-a448-00f4ee511a65",
   "metadata": {},
   "outputs": [
    {
     "data": {
      "text/plain": [
       "<Annotations | 154 segments: Sleep stage 1 (24), Sleep stage 2 (40), Sleep ...>"
      ]
     },
     "execution_count": 60,
     "metadata": {},
     "output_type": "execute_result"
    }
   ],
   "source": [
    "annot_train = mne.read_annotations(data[0][1])\n",
    "annot_train"
   ]
  },
  {
   "cell_type": "code",
   "execution_count": 46,
   "id": "364d8c2e-8871-44ce-8d79-d63e39216b2f",
   "metadata": {},
   "outputs": [
    {
     "data": {
      "text/plain": [
       "[['C:\\\\Users\\\\Lunaf\\\\mne_data\\\\physionet-sleep-data\\\\SC4001E0-PSG.edf',\n",
       "  'C:\\\\Users\\\\Lunaf\\\\mne_data\\\\physionet-sleep-data\\\\SC4001EC-Hypnogram.edf'],\n",
       " ['C:\\\\Users\\\\Lunaf\\\\mne_data\\\\physionet-sleep-data\\\\SC4011E0-PSG.edf',\n",
       "  'C:\\\\Users\\\\Lunaf\\\\mne_data\\\\physionet-sleep-data\\\\SC4011EH-Hypnogram.edf'],\n",
       " ['C:\\\\Users\\\\Lunaf\\\\mne_data\\\\physionet-sleep-data\\\\SC4021E0-PSG.edf',\n",
       "  'C:\\\\Users\\\\Lunaf\\\\mne_data\\\\physionet-sleep-data\\\\SC4021EH-Hypnogram.edf']]"
      ]
     },
     "execution_count": 46,
     "metadata": {},
     "output_type": "execute_result"
    }
   ],
   "source": [
    "data"
   ]
  },
  {
   "cell_type": "code",
   "execution_count": null,
   "id": "5168ed67-9ca1-4977-b0ca-b8c967cf68f8",
   "metadata": {},
   "outputs": [],
   "source": []
  }
 ],
 "metadata": {
  "kernelspec": {
   "display_name": "Python [conda env:base] *",
   "language": "python",
   "name": "conda-base-py"
  },
  "language_info": {
   "codemirror_mode": {
    "name": "ipython",
    "version": 3
   },
   "file_extension": ".py",
   "mimetype": "text/x-python",
   "name": "python",
   "nbconvert_exporter": "python",
   "pygments_lexer": "ipython3",
   "version": "3.12.7"
  }
 },
 "nbformat": 4,
 "nbformat_minor": 5
}
