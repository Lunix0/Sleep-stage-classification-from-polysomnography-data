{
 "cells": [
  {
   "cell_type": "code",
   "execution_count": null,
   "id": "db6bdc2c-daef-4bc2-b264-ab5d7122e102",
   "metadata": {},
   "outputs": [],
   "source": []
  }
 ],
 "metadata": {
  "kernelspec": {
   "display_name": "",
   "name": ""
  },
  "language_info": {
   "name": ""
  }
 },
 "nbformat": 4,
 "nbformat_minor": 5
}
